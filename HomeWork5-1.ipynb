{
 "cells": [
  {
   "cell_type": "markdown",
   "metadata": {},
   "source": [
    "## Digit Recognizer\n",
    "https://www.kaggle.com/c/digit-recognizer"
   ]
  },
  {
   "cell_type": "code",
   "execution_count": 1,
   "metadata": {
    "collapsed": true
   },
   "outputs": [],
   "source": [
    "%matplotlib inline\n",
    "import cv2\n",
    "import numpy as np\n",
    "import matplotlib.pyplot as plt"
   ]
  },
  {
   "cell_type": "markdown",
   "metadata": {},
   "source": [
    "## Загружаем исходные данные"
   ]
  },
  {
   "cell_type": "code",
   "execution_count": 2,
   "metadata": {
    "collapsed": true
   },
   "outputs": [],
   "source": [
    "train = np.loadtxt('./data/digit/train.csv', delimiter=',', skiprows=1)\n",
    "test = np.loadtxt('./data/digit/test.csv', delimiter=',', skiprows=1)"
   ]
  },
  {
   "cell_type": "code",
   "execution_count": 3,
   "metadata": {
    "collapsed": true
   },
   "outputs": [],
   "source": [
    "# сохраняем разметку в отдельную переменную\n",
    "train_label = train[:, 0]\n",
    "# приводим размерность к удобному для обаботки виду\n",
    "train_img = np.resize(train[:, 1:], (train.shape[0], 28, 28))\n",
    "test_img = np.resize(test, (test.shape[0], 28, 28))"
   ]
  },
  {
   "cell_type": "code",
   "execution_count": 4,
   "metadata": {},
   "outputs": [
    {
     "data": {
      "text/plain": [
       "(42000, 28, 28)"
      ]
     },
     "execution_count": 4,
     "metadata": {},
     "output_type": "execute_result"
    }
   ],
   "source": [
    "train_img.shape"
   ]
  },
  {
   "cell_type": "code",
   "execution_count": 5,
   "metadata": {},
   "outputs": [
    {
     "data": {
      "text/plain": [
       "(28000, 28, 28)"
      ]
     },
     "execution_count": 5,
     "metadata": {},
     "output_type": "execute_result"
    }
   ],
   "source": [
    "test_img.shape"
   ]
  },
  {
   "cell_type": "markdown",
   "metadata": {},
   "source": [
    "## Визуализируем исходные данные"
   ]
  },
  {
   "cell_type": "code",
   "execution_count": 6,
   "metadata": {},
   "outputs": [
    {
     "data": {
      "image/png": "[encoded data removed]",
      "text/plain": [
       "<matplotlib.figure.Figure at 0x46d63f60>"
      ]
     },
     "metadata": {},
     "output_type": "display_data"
    }
   ],
   "source": [
    "fig = plt.figure(figsize=(20, 10))\n",
    "for i, img in enumerate(train_img[17:24], 1):\n",
    "    subplot = fig.add_subplot(1, 7, i)\n",
    "    plt.imshow(img, cmap='gray');\n",
    "    subplot.set_title('%s' % train_label[i - 1]);"
   ]
  },
  {
   "cell_type": "markdown",
   "metadata": {},
   "source": [
    "## Вычисляем X и Y составляющие градиента с помощью оператора Собеля"
   ]
  },
  {
   "cell_type": "code",
   "execution_count": 7,
   "metadata": {
    "collapsed": true
   },
   "outputs": [],
   "source": [
    "train_sobel_x = np.zeros_like(train_img)\n",
    "train_sobel_y = np.zeros_like(train_img)\n",
    "for i in range(len(train_img)):\n",
    "    train_sobel_x[i] = cv2.Sobel(train_img[i], cv2.CV_64F, dx=1, dy=0, ksize=3)\n",
    "    train_sobel_y[i] = cv2.Sobel(train_img[i], cv2.CV_64F, dx=0, dy=1, ksize=3)"
   ]
  },
  {
   "cell_type": "code",
   "execution_count": 8,
   "metadata": {},
   "outputs": [
    {
     "data": {
      "text/plain": [
       "(28, 28)"
      ]
     },
     "execution_count": 8,
     "metadata": {},
     "output_type": "execute_result"
    }
   ],
   "source": [
    "train_sobel_x [10].shape"
   ]
  },
  {
   "cell_type": "code",
   "execution_count": 9,
   "metadata": {},
   "outputs": [
    {
     "data": {
      "image/png": "[encoded data removed]",
      "text/plain": [
       "<matplotlib.figure.Figure at 0x46d63940>"
      ]
     },
     "metadata": {},
     "output_type": "display_data"
    }
   ],
   "source": [
    "fig = plt.figure(figsize=(20, 10))\n",
    "for i, img in enumerate(train_sobel_x[17:24], 1):\n",
    "    subplot = fig.add_subplot(1, 7, i)\n",
    "    plt.imshow(img, cmap='gray');\n",
    "    subplot.set_title('%s' % train_label[i - 1]);"
   ]
  },
  {
   "cell_type": "code",
   "execution_count": 10,
   "metadata": {
    "collapsed": true
   },
   "outputs": [],
   "source": [
    "test_sobel_x = np.zeros_like(test_img)\n",
    "test_sobel_y = np.zeros_like(test_img)\n",
    "for i in range(len(test_img)):\n",
    "    test_sobel_x[i] = cv2.Sobel(test_img[i], cv2.CV_64F, dx=1, dy=0, ksize=3)\n",
    "    test_sobel_y[i] = cv2.Sobel(test_img[i], cv2.CV_64F, dx=0, dy=1, ksize=3)"
   ]
  },
  {
   "cell_type": "markdown",
   "metadata": {},
   "source": [
    "## Вычисляем угол и длину вектора градиента"
   ]
  },
  {
   "cell_type": "code",
   "execution_count": 11,
   "metadata": {
    "collapsed": true
   },
   "outputs": [],
   "source": [
    "train_g, train_theta = cv2.cartToPolar(train_sobel_x, train_sobel_y)"
   ]
  },
  {
   "cell_type": "code",
   "execution_count": 12,
   "metadata": {},
   "outputs": [
    {
     "data": {
      "text/plain": [
       "(28, 28)"
      ]
     },
     "execution_count": 12,
     "metadata": {},
     "output_type": "execute_result"
    }
   ],
   "source": [
    "train_g[10].shape"
   ]
  },
  {
   "cell_type": "code",
   "execution_count": 13,
   "metadata": {
    "collapsed": true
   },
   "outputs": [],
   "source": [
    "test_g, test_theta = cv2.cartToPolar(test_sobel_x, test_sobel_y)"
   ]
  },
  {
   "cell_type": "code",
   "execution_count": 14,
   "metadata": {},
   "outputs": [
    {
     "data": {
      "image/png": "[encoded data removed]",
      "text/plain": [
       "<matplotlib.figure.Figure at 0x9dda3c8>"
      ]
     },
     "metadata": {},
     "output_type": "display_data"
    }
   ],
   "source": [
    "fig = plt.figure(figsize=(20, 10))\n",
    "for i, img in enumerate(train_g[80:85], 1):\n",
    "    subplot = fig.add_subplot(1, 7, i)\n",
    "    plt.imshow(img, cmap='gray');\n",
    "    subplot.set_title('%s' % train_label[i - 1]);\n",
    "    subplot = fig.add_subplot(3, 7, i)\n",
    "    plt.hist(train_theta[i - 1].flatten(),\n",
    "             bins=16, weights=train_g[i - 1].flatten())"
   ]
  },
  {
   "cell_type": "markdown",
   "metadata": {},
   "source": [
    "## Вычисляем гистограммы градиентов"
   ]
  },
  {
   "cell_type": "code",
   "execution_count": 72,
   "metadata": {
    "collapsed": true
   },
   "outputs": [],
   "source": [
    "# Гистограммы вычисляются с учетом длины вектора градиента\n",
    "train_hist = np.zeros((len(train_img), 16))\n",
    "for i in range(len(train_img)):\n",
    "    hist, borders = np.histogram(train_theta[i],\n",
    "                                 bins=16,\n",
    "                                 range=(0., 2. * np.pi),\n",
    "                                 weights=train_g[i])\n",
    "    train_hist[i] = hist"
   ]
  },
  {
   "cell_type": "code",
   "execution_count": 73,
   "metadata": {
    "collapsed": true
   },
   "outputs": [],
   "source": [
    "test_hist = np.zeros((len(test_img), 16))\n",
    "for i in range(len(test_img)):\n",
    "    hist, borders = np.histogram(test_theta[i],\n",
    "                                 bins=16,\n",
    "                                 range=(0., 2. * np.pi),\n",
    "                                 weights=test_g[i])\n",
    "    test_hist[i] = hist"
   ]
  },
  {
   "cell_type": "markdown",
   "metadata": {},
   "source": [
    "## Разобьем каждый объект на 4 части и подсчитаем градиенты для каждой части"
   ]
  },
  {
   "cell_type": "code",
   "execution_count": 15,
   "metadata": {
    "collapsed": true
   },
   "outputs": [],
   "source": [
    "BINS=32\n",
    "n_row=14"
   ]
  },
  {
   "cell_type": "code",
   "execution_count": 16,
   "metadata": {},
   "outputs": [
    {
     "data": {
      "text/plain": [
       "(42000, 128)"
      ]
     },
     "execution_count": 16,
     "metadata": {},
     "output_type": "execute_result"
    }
   ],
   "source": [
    "# разделение на квадрат\n",
    "train_hist_4 = np.zeros((len(train_img), BINS*4))\n",
    "for i in range(len(train_img)):\n",
    "    hist0, br0 = np.histogram(train_theta[i][:n_row,:n_row],bins=BINS,range=(0., 2. * np.pi),weights=train_g[i][:n_row,:n_row])\n",
    "    hist1, br1 = np.histogram(train_theta[i][:n_row,n_row+1:],bins=BINS,range=(0., 2. * np.pi),weights=train_g[i][:n_row,n_row+1:])\n",
    "    hist2, br2 = np.histogram(train_theta[i][n_row+1:,:n_row],bins=BINS,range=(0., 2. * np.pi),weights=train_g[i][n_row+1:,:n_row])\n",
    "    hist3, br3 = np.histogram(train_theta[i][n_row+1:,n_row+1:],bins=BINS,range=(0., 2. * np.pi),weights=train_g[i][n_row+1:,n_row+1:])\n",
    "    train_hist_4[i] =np.concatenate((hist0,hist1,hist2,hist3),axis=0)\n",
    "train_hist_4.shape    "
   ]
  },
  {
   "cell_type": "code",
   "execution_count": 17,
   "metadata": {},
   "outputs": [
    {
     "data": {
      "text/plain": [
       "(32,)"
      ]
     },
     "execution_count": 17,
     "metadata": {},
     "output_type": "execute_result"
    }
   ],
   "source": [
    "# разделение на вертикальные части всего 28/4\n",
    "train_hist_vr = np.zeros((len(train_img), BINS*4))\n",
    "for i in range(len(train_img)):\n",
    "    hist0, br0 = np.histogram(train_theta[i][:,:7],bins=BINS,range=(0., 2. * np.pi),weights=train_g[i][:,:7])\n",
    "    hist1, br1 = np.histogram(train_theta[i][:,8:14],bins=BINS,range=(0., 2. * np.pi),weights=train_g[i][:,8:14])\n",
    "    hist2, br2 = np.histogram(train_theta[i][:,15:21],bins=BINS,range=(0., 2. * np.pi),weights=train_g[i][:,15:21])\n",
    "    hist3, br3 = np.histogram(train_theta[i][:22:],bins=BINS,range=(0., 2. * np.pi),weights=train_g[i][:22:])\n",
    "    train_hist_vr[i] =np.concatenate((hist0,hist1,hist2,hist3),axis=0)\n",
    "hist3.shape    "
   ]
  },
  {
   "cell_type": "code",
   "execution_count": 18,
   "metadata": {},
   "outputs": [
    {
     "data": {
      "text/plain": [
       "(32,)"
      ]
     },
     "execution_count": 18,
     "metadata": {},
     "output_type": "execute_result"
    }
   ],
   "source": [
    "# разделение на горизонтальные части всего 28/4\n",
    "train_hist_gr = np.zeros((len(train_img), BINS*4))\n",
    "for i in range(len(train_img)):\n",
    "    hist0, br0 = np.histogram(train_theta[i][:7,:],bins=BINS,range=(0., 2. * np.pi),weights=train_g[i][:7,:])\n",
    "    hist1, br1 = np.histogram(train_theta[i][8:14,:],bins=BINS,range=(0., 2. * np.pi),weights=train_g[i][8:14,:])\n",
    "    hist2, br2 = np.histogram(train_theta[i][15:21,:],bins=BINS,range=(0., 2. * np.pi),weights=train_g[i][15:21,:])\n",
    "    hist3, br3 = np.histogram(train_theta[i][22:,:],bins=BINS,range=(0., 2. * np.pi),weights=train_g[i][22:,:])\n",
    "    train_hist_gr[i] =np.concatenate((hist0,hist1,hist2,hist3),axis=0)\n",
    "hist3.shape    "
   ]
  },
  {
   "cell_type": "code",
   "execution_count": 19,
   "metadata": {},
   "outputs": [
    {
     "data": {
      "text/plain": [
       "(42000, 256)"
      ]
     },
     "execution_count": 19,
     "metadata": {},
     "output_type": "execute_result"
    }
   ],
   "source": [
    "# попробуем обьеденить горизонтальное и вертикальное\n",
    "train_hist=np.concatenate((train_hist_4,train_hist_gr),axis=1)\n",
    "train_hist.shape"
   ]
  },
  {
   "cell_type": "code",
   "execution_count": 20,
   "metadata": {
    "collapsed": true
   },
   "outputs": [],
   "source": [
    "# разделение на квадрат\n",
    "train_hist_4 = np.zeros((len(test_img), BINS*4))\n",
    "for i in range(len(test_img)):\n",
    "    hist0, br0 = np.histogram(test_theta[i][:n_row,:n_row],bins=BINS,range=(0., 2. * np.pi),weights=test_g[i][:n_row,:n_row])\n",
    "    hist1, br1 = np.histogram(test_theta[i][:n_row,n_row+1:],bins=BINS,range=(0., 2. * np.pi),weights=test_g[i][:n_row,n_row+1:])\n",
    "    hist2, br2 = np.histogram(test_theta[i][n_row+1:,:n_row],bins=BINS,range=(0., 2. * np.pi),weights=test_g[i][n_row+1:,:n_row])\n",
    "    hist3, br3 = np.histogram(test_theta[i][n_row+1:,n_row+1:],bins=BINS,range=(0., 2. * np.pi),weights=test_g[i][n_row+1:,n_row+1:])\n",
    "    train_hist_4[i] =np.concatenate((hist0,hist1,hist2,hist3),axis=0)"
   ]
  },
  {
   "cell_type": "code",
   "execution_count": 21,
   "metadata": {
    "collapsed": true
   },
   "outputs": [],
   "source": [
    "# разделение на горизонтальные части всего 28/4\n",
    "train_hist_gr = np.zeros((len(test_img), BINS*4))\n",
    "for i in range(len(test_img)):\n",
    "    hist0, br0 = np.histogram(test_theta[i][:7,:],bins=BINS,range=(0., 2. * np.pi),weights=test_g[i][:7,:])\n",
    "    hist1, br1 = np.histogram(test_theta[i][8:14,:],bins=BINS,range=(0., 2. * np.pi),weights=test_g[i][8:14,:])\n",
    "    hist2, br2 = np.histogram(test_theta[i][15:21,:],bins=BINS,range=(0., 2. * np.pi),weights=test_g[i][15:21,:])\n",
    "    hist3, br3 = np.histogram(test_theta[i][22:,:],bins=BINS,range=(0., 2. * np.pi),weights=test_g[i][22:,:])\n",
    "    train_hist_gr[i] =np.concatenate((hist0,hist1,hist2,hist3),axis=0)"
   ]
  },
  {
   "cell_type": "code",
   "execution_count": 22,
   "metadata": {},
   "outputs": [
    {
     "data": {
      "text/plain": [
       "(28000, 256)"
      ]
     },
     "execution_count": 22,
     "metadata": {},
     "output_type": "execute_result"
    }
   ],
   "source": [
    "test_hist=np.concatenate((train_hist_4,train_hist_gr),axis=1)\n",
    "test_hist.shape"
   ]
  },
  {
   "cell_type": "markdown",
   "metadata": {},
   "source": [
    "## Scale Invariant Feature Transform Scale // УХУДШИЛО!!"
   ]
  },
  {
   "cell_type": "code",
   "execution_count": null,
   "metadata": {},
   "outputs": [
    {
     "data": {
      "text/plain": [
       "<Container object of 256 artists>"
      ]
     },
     "execution_count": 237,
     "metadata": {},
     "output_type": "execute_result"
    }
   ],
   "source": [
    "N = len(train_hist[80])\n",
    "x = range(N)\n",
    "width = 1/1.5\n",
    "plt.bar(x, train_hist[80], width, color=\"blue\")"
   ]
  },
  {
   "cell_type": "code",
   "execution_count": 81,
   "metadata": {
    "collapsed": true
   },
   "outputs": [],
   "source": [
    "# маскимальное значение должно быть в нулевой ячеке\n",
    "def max_first (train_hist): \n",
    "    for i in range(len(train_hist)):\n",
    "        max_id=train_hist[i].argmax()\n",
    "        if max_id>0:\n",
    "            x1,x2=np.split(train_hist[i],[max_id])\n",
    "            if len(x1)<=2:\n",
    "                train_hist[i]=np.concatenate((x2,x1),axis=0)\n",
    "    return train_hist"
   ]
  },
  {
   "cell_type": "code",
   "execution_count": 82,
   "metadata": {
    "collapsed": true
   },
   "outputs": [],
   "source": [
    "train_hist= max_first(train_hist)\n",
    "test_hist= max_first(test_hist)"
   ]
  },
  {
   "cell_type": "code",
   "execution_count": 83,
   "metadata": {},
   "outputs": [
    {
     "data": {
      "text/plain": [
       "<Container object of 8 artists>"
      ]
     },
     "execution_count": 83,
     "metadata": {},
     "output_type": "execute_result"
    },
    {
     "data": {
      "image/png": "[encoded data removed]",
      "text/plain": [
       "<matplotlib.figure.Figure at 0x288235ccf8>"
      ]
     },
     "metadata": {},
     "output_type": "display_data"
    }
   ],
   "source": [
    "width = 1/1.5\n",
    "plt.bar(x, train_hist[80], width, color=\"blue\")"
   ]
  },
  {
   "cell_type": "markdown",
   "metadata": {},
   "source": [
    "## Нормируем вектор гистограммы"
   ]
  },
  {
   "cell_type": "code",
   "execution_count": 55,
   "metadata": {
    "collapsed": true
   },
   "outputs": [],
   "source": [
    "# По умолчанию используется L2 норма\n",
    "train_hist = train_hist / np.linalg.norm(train_hist, axis=1)[:, None]"
   ]
  },
  {
   "cell_type": "code",
   "execution_count": 56,
   "metadata": {},
   "outputs": [],
   "source": [
    "test_hist = test_hist / np.linalg.norm(test_hist, axis=1)[:, None]"
   ]
  },
  {
   "cell_type": "markdown",
   "metadata": {},
   "source": [
    "## Разбиваем выборку на обучение и валидацию"
   ]
  },
  {
   "cell_type": "code",
   "execution_count": 70,
   "metadata": {
    "collapsed": true
   },
   "outputs": [],
   "source": [
    "from sklearn.model_selection import train_test_split\n",
    "y_train, y_val, x_train, x_val = train_test_split(\n",
    "    train_label, train_hist, test_size=0.2, random_state=42)"
   ]
  },
  {
   "cell_type": "markdown",
   "metadata": {},
   "source": [
    "## Вычисляем центроиды каждого из 10 классов"
   ]
  },
  {
   "cell_type": "code",
   "execution_count": 25,
   "metadata": {
    "collapsed": true
   },
   "outputs": [],
   "source": [
    "centroids = np.zeros((10, train_hist.shape[1]), dtype=np.float32)"
   ]
  },
  {
   "cell_type": "code",
   "execution_count": 33,
   "metadata": {
    "collapsed": true
   },
   "outputs": [],
   "source": [
    "for i in range(10):\n",
    "    centroids[i] = np.mean(x_train[y_train == i], axis=0)"
   ]
  },
  {
   "cell_type": "code",
   "execution_count": 57,
   "metadata": {
    "collapsed": true
   },
   "outputs": [],
   "source": [
    "for i in range(10):\n",
    "    centroids[i] = np.mean(train_hist[train_label == i], axis=0)"
   ]
  },
  {
   "cell_type": "markdown",
   "metadata": {},
   "source": [
    "## Находим ближайший центройд для валидации"
   ]
  },
  {
   "cell_type": "code",
   "execution_count": 34,
   "metadata": {
    "collapsed": true
   },
   "outputs": [],
   "source": [
    "pred_val = np.zeros_like(y_val)\n",
    "for i in range(len(y_val)):\n",
    "    distances = np.linalg.norm(centroids - x_val[i], axis=1)\n",
    "    pred_val[i] = np.argmin(distances)"
   ]
  },
  {
   "cell_type": "markdown",
   "metadata": {},
   "source": [
    "## KNN"
   ]
  },
  {
   "cell_type": "code",
   "execution_count": 68,
   "metadata": {
    "collapsed": true
   },
   "outputs": [],
   "source": [
    "from sklearn.neighbors import KNeighborsClassifier\n",
    "from sklearn.model_selection import cross_val_score"
   ]
  },
  {
   "cell_type": "code",
   "execution_count": 38,
   "metadata": {},
   "outputs": [
    {
     "name": "stdout",
     "output_type": "stream",
     "text": [
      "Wall time: 16min 18s\n"
     ]
    }
   ],
   "source": [
    "%%time\n",
    "xgb_scoring={}\n",
    "for n_tree in [5, 10,15,20,25]:\n",
    "    neigh = KNeighborsClassifier(n_neighbors=n_tree, n_jobs=-1)\n",
    "    scores = cross_val_score(neigh, x_train, y_train, cv=4)\n",
    "    xgb_scoring[n_tree]=scores.mean()"
   ]
  },
  {
   "cell_type": "code",
   "execution_count": 39,
   "metadata": {},
   "outputs": [
    {
     "data": {
      "text/plain": [
       "{5: 0.94800622864239137,\n",
       " 10: 0.94755990988675531,\n",
       " 15: 0.94547670398045069,\n",
       " 20: 0.94392890057265821,\n",
       " 25: 0.94205376230505311}"
      ]
     },
     "execution_count": 39,
     "metadata": {},
     "output_type": "execute_result"
    }
   ],
   "source": [
    "xgb_scoring "
   ]
  },
  {
   "cell_type": "markdown",
   "metadata": {},
   "source": [
    "## XGBOOST и прочие радости"
   ]
  },
  {
   "cell_type": "code",
   "execution_count": 61,
   "metadata": {},
   "outputs": [
    {
     "name": "stderr",
     "output_type": "stream",
     "text": [
      "C:\\ProgramData\\Anaconda3\\lib\\site-packages\\sklearn\\cross_validation.py:44: DeprecationWarning: This module was deprecated in version 0.18 in favor of the model_selection module into which all the refactored classes and functions are moved. Also note that the interface of the new CV iterators are different from that of this module. This module will be removed in 0.20.\n",
      "  \"This module will be removed in 0.20.\", DeprecationWarning)\n"
     ]
    }
   ],
   "source": [
    "import xgboost as xgb \n",
    "from sklearn.ensemble import RandomForestClassifier"
   ]
  },
  {
   "cell_type": "code",
   "execution_count": null,
   "metadata": {},
   "outputs": [],
   "source": [
    "%%time\n",
    "# Random Forest!\n",
    "xgb_scoring={}\n",
    "for n_tree in [100,120,150,170]:\n",
    "    estimator=RandomForestClassifier(n_estimators=n_tree,warm_start=True, n_jobs=-1)\n",
    "    scores = cross_val_score(estimator, x_train, y_train, cv=4)\n",
    "    xgb_scoring[n_tree]=scores.mean()\n",
    "xgb_scoring    "
   ]
  },
  {
   "cell_type": "code",
   "execution_count": 84,
   "metadata": {},
   "outputs": [
    {
     "name": "stdout",
     "output_type": "stream",
     "text": [
      "Wall time: 8min 52s\n"
     ]
    }
   ],
   "source": [
    "%%time\n",
    "#великий и ужасный XGBoost\n",
    "xgb_scoring={}\n",
    "param = {'max_depth':2, 'eta':1, 'silent':1, 'objective':'binary:logistic' }\n",
    "for n_tree in [200]:\n",
    "    estimator=xgb.XGBClassifier(n_estimators=n_tree, silent=1, nthread=-1)\n",
    "    scores = cross_val_score(estimator, x_train, y_train, cv=4)\n",
    "    xgb_scoring[n_tree]=scores.mean()\n",
    "xgb_scoring  "
   ]
  },
  {
   "cell_type": "code",
   "execution_count": 85,
   "metadata": {},
   "outputs": [
    {
     "data": {
      "text/plain": [
       "{170: 0.9701488463571184}"
      ]
     },
     "execution_count": 85,
     "metadata": {},
     "output_type": "execute_result"
    }
   ],
   "source": [
    "#100 0.96029 \n",
    "#50 0.940\n",
    "#120 0.9641\n",
    "#150 0.9684\n",
    "#170 0.97014\n",
    "#200 \n",
    "xgb_scoring\n"
   ]
  },
  {
   "cell_type": "markdown",
   "metadata": {},
   "source": [
    "## Обучим и предскажем"
   ]
  },
  {
   "cell_type": "code",
   "execution_count": 34,
   "metadata": {
    "collapsed": true
   },
   "outputs": [],
   "source": [
    "estimator=RandomForestClassifier(n_estimators=120,warm_start=True, n_jobs=-1)\n",
    "estimator.fit(train_hist, train_label)\n",
    "pred_test=estimator.predict(test_hist)"
   ]
  },
  {
   "cell_type": "markdown",
   "metadata": {},
   "source": [
    "## Оцениваем качество решение на валидационной выборке"
   ]
  },
  {
   "cell_type": "code",
   "execution_count": 35,
   "metadata": {},
   "outputs": [
    {
     "name": "stdout",
     "output_type": "stream",
     "text": [
      "Accuracy: 0.857976190476\n"
     ]
    }
   ],
   "source": [
    "#Accuracy: 16 bins 0.427023809524\n",
    "#Accuracy: 8 bins 0.445119047619\n",
    "#Accuracy: 8 bins 0.3025 + центрирование\n",
    "#Accuracy 8 bins + 4 max сдвиг 0.3170\n",
    "#Accuracy 8 bins + 2 max сдвиг  0.3469\n",
    "# с разделением на 4 квадрата\n",
    "#Accuracy: 16 bins 0.8297\n",
    "#Accuracy: 8 bins 0.7913  хуже\n",
    "#Accuracy: 32 bins 0.8311\n",
    "# с разделением на 4 по вертикали\n",
    "#Accuracy: 0.6192\n",
    "# с разделением на 4 по горизонтали\n",
    "#Accuracy: 0.77880952381  отлично лучше разделяет 8 от 9\n",
    "# обьеденим горизонтальное и вртикальное разделение Accuracy: 0.7267\n",
    "# объеденим  квадраты и горизонтальное Accuracy: 0.8579 ========== лучший вариант!!для центройда на валидации\n",
    "#++++++++++++++ KNN\n",
    "#10: 0.9475 +\n",
    "#5: 0.9480\n",
    "#++++++++++++++ RandomForestClassifier\n",
    "#100: 0.9605 \n",
    "#150: 0.9625  120\n",
    "#200: 0.9631\n",
    "#300: 0.9638\n",
    "#++++++++++++++ XGBoost\n",
    "#100 0.96029\n",
    "from sklearn.metrics import accuracy_score\n",
    "print('Accuracy: %s' % accuracy_score(y_val, pred_val))"
   ]
  },
  {
   "cell_type": "code",
   "execution_count": null,
   "metadata": {},
   "outputs": [],
   "source": [
    "from sklearn.metrics import classification_report\n",
    "print(classification_report(y_val, pred_val))"
   ]
  },
  {
   "cell_type": "code",
   "execution_count": 203,
   "metadata": {},
   "outputs": [
    {
     "name": "stdout",
     "output_type": "stream",
     "text": [
      "[[558  28  46   2  70  44  48   0  19   1]\n",
      " [  2 694   1   0  59   0 108  28  14   3]\n",
      " [  4   2 404 111  11 130  25  41  43  75]\n",
      " [  0   0  76 625   5 117   1   5  56  52]\n",
      " [ 16 104  15   4 448   3 145  49  17  38]\n",
      " [  0   1  40  50   3 542   4   5  54   3]\n",
      " [ 73  50  17   1  16  31 531   1  65   0]\n",
      " [  3  54  56  16  51  50 101 501  11  50]\n",
      " [  8  18  34  11  29  68 104   5 527  31]\n",
      " [  5  57  80  35  61  17  99  87  25 372]]\n"
     ]
    }
   ],
   "source": [
    "from sklearn.metrics import confusion_matrix\n",
    "print(confusion_matrix(y_val, pred_val))"
   ]
  },
  {
   "cell_type": "markdown",
   "metadata": {},
   "source": [
    "## Предсказания на тестовыйх данных"
   ]
  },
  {
   "cell_type": "code",
   "execution_count": 58,
   "metadata": {
    "collapsed": true
   },
   "outputs": [],
   "source": [
    "pred_test = np.zeros(len(test_img), np.uint8)\n",
    "for i in range(len(test_img)):\n",
    "    distances = np.linalg.norm(centroids - test_hist[i], axis=1)\n",
    "    pred_test[i] = np.argmin(distances)"
   ]
  },
  {
   "cell_type": "markdown",
   "metadata": {},
   "source": [
    "## Визуализируем предсказания"
   ]
  },
  {
   "cell_type": "code",
   "execution_count": 59,
   "metadata": {},
   "outputs": [
    {
     "data": {
      "image/png": "[encoded data removed]",
      "text/plain": [
       "<matplotlib.figure.Figure at 0x972e710>"
      ]
     },
     "metadata": {},
     "output_type": "display_data"
    }
   ],
   "source": [
    "fig = plt.figure(figsize=(20, 10))\n",
    "for i, img in enumerate(test_img[0:7], 1):\n",
    "    subplot = fig.add_subplot(1, 7, i)\n",
    "    plt.imshow(img, cmap='gray');\n",
    "    subplot.set_title('%s' % pred_test[i-1]);"
   ]
  },
  {
   "cell_type": "markdown",
   "metadata": {},
   "source": [
    "## Готовим файл для отправки"
   ]
  },
  {
   "cell_type": "code",
   "execution_count": 60,
   "metadata": {},
   "outputs": [],
   "source": [
    "with open('submit.txt', 'w') as dst:\n",
    "    dst.write('ImageId,Label\\n')\n",
    "    for i, p in enumerate(pred_test, 1):\n",
    "        dst.write('%s,%i\\n' % (i, p))"
   ]
  }
 ],
 "metadata": {
  "kernelspec": {
   "display_name": "Python 3",
   "language": "python",
   "name": "python3"
  },
  "language_info": {
   "codemirror_mode": {
    "name": "ipython",
    "version": 3
   },
   "file_extension": ".py",
   "mimetype": "text/x-python",
   "name": "python",
   "nbconvert_exporter": "python",
   "pygments_lexer": "ipython3",
   "version": "3.6.1"
  }
 },
 "nbformat": 4,
 "nbformat_minor": 2
}
