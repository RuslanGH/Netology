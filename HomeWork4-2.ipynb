{
 "cells": [
  {
   "cell_type": "markdown",
   "metadata": {},
   "source": [
    "# Описание задания"
   ]
  },
  {
   "cell_type": "markdown",
   "metadata": {},
   "source": [
    "В рамках данного задания, студент должен создать и оценить 4 типа рекомендательных систем:\n",
    "* Content-based RS\n",
    "\n",
    "Каждая рекомендательная система - отдельное подзадание. Подзадание считается выполненным, если студент создал рекомендательную систему, которая **лучше (или хуже, но не более чем на 10%)** системы, созданной автором данного блокнота. Системы оцениваются с использованием метрики ``HR@N``, описанной ниже."
   ]
  },
  {
   "cell_type": "markdown",
   "metadata": {},
   "source": [
    "# Детальное описание"
   ]
  },
  {
   "cell_type": "markdown",
   "metadata": {},
   "source": [
    "#### Данные: \n",
    "Датасет представлен множеством отзывов к компьютерным играм (объектам) от пользователей Amazon. Каждый отзыв представлен в виде JSON-структуры со следующими полями:\n",
    "* идентификатор пользователя - reviewerID\n",
    "* идентификатор объекта - asin\n",
    "* текст отзыва - reviewText\n",
    "* рейтинг - overall\n",
    "* время публикации обзора - unixReviewTime\n",
    "* другие поля, не использованные автором этого блокнота (смотри полное описание JSON [тут](http://jmcauley.ucsd.edu/data/amazon/))\n",
    "\n",
    "У каждого объекта есть как минимум 5 отзывов, каждый пользователь написал как минимум 5 отзывов. \n",
    "#### Цель: \n",
    "Построить рекомендательную систему, предсказывающую объекты, которые пользователь приобретет в ближайшем будущем. Для упрощения мы считаем, что пользователь приобрел объект, если он написал про него отзыв.\n",
    "#### Подготовка данных:\n",
    "Данные разделены на тренировочную и тестовую выборки по времени публикации отзывов. Первые 80% данных (более старые) используются как тренировочная выборка, остальные - как тестовая. \n",
    "\n",
    "Построение рекомендательной системы (т.е., выбор и тренировка моделей, оптимизация параметров и т.д.) осуществляется **только** с использованием тренировочной выборки. Все параметры, использованные в моделях, **должны быть** получены или объяснены с помощью тренировочных данных. Студент вправе использовать тренировочную выборку как его душе угодно. \n",
    "\n",
    "Тестирующая выборка используется **только** для оценки рекомендательной системы.\n",
    "\n",
    "Для построения рекомендательных моделей также можно использовать JSON-поля из датасета, неиспользованные автором этого блокнота.\n",
    "#### Оценка качества рекомендательной системы\n",
    "Цель рекомендательной системы - посоветовать пользователю объекты, которые он захочет приобрести. Для оценки качества такой системы мы воспользуемся метрикой `hit-ratio (HR)`. \n",
    "\n",
    "$$\n",
    "HR = \\frac{1}{|U_T|}\\sum_{u \\in U_T} \\mathrm{I}(Rel_u \\cap Rec_u)\n",
    "$$\n",
    "\n",
    "* $U_T$ - множество пользователей из тестовой выборки\n",
    "* $Rec_u$ - множество объектов, рекомендованных пользователю $u$ \n",
    "* $Rel_u$ - множество объектов, оцененных пользователем $u$ в тестовой выборке\n",
    "* $\\mathrm{I}(Rel_u \\cap Rec_u)$ - бинарная функция-индикатор. Функция возвращает 1 если $Rel_u \\cap Rec_u \\ne \\emptyset$, иначе 0\n",
    "\n",
    "$HR=1$ если для каждого пользователя мы рекомендовали хотя бы один релевантный объект. Так как обычно пользователи просматривают только первые $N$ рекомендаций, мы будем считать метрику $HR@N$, где $N=10$ (т.е. множество $Rec_u$ будет содержать только 10 объектов). "
   ]
  },
  {
   "cell_type": "markdown",
   "metadata": {},
   "source": [
    "# Условные обозначения\n",
    "* `uid` - идентификатор пользователя\n",
    "* `iid` - идентификатор объекта"
   ]
  },
  {
   "cell_type": "markdown",
   "metadata": {},
   "source": [
    "# Games RSs"
   ]
  },
  {
   "cell_type": "code",
   "execution_count": 1,
   "metadata": {
    "collapsed": true
   },
   "outputs": [],
   "source": [
    "# импорты, которые точно понадобятся\n",
    "import pandas as pd\n",
    "import numpy as np\n",
    "\n",
    "from scipy.sparse import csr_matrix\n",
    "%matplotlib inline\n",
    "import matplotlib.pyplot as plt"
   ]
  },
  {
   "cell_type": "code",
   "execution_count": 2,
   "metadata": {
    "collapsed": true
   },
   "outputs": [],
   "source": [
    "JSON_DATA_PATH = \"data/Video_Games_5.json\""
   ]
  },
  {
   "cell_type": "markdown",
   "metadata": {},
   "source": [
    "## Анализ данных"
   ]
  },
  {
   "cell_type": "code",
   "execution_count": 3,
   "metadata": {
    "collapsed": true
   },
   "outputs": [],
   "source": [
    "import json\n",
    "\n",
    "def iter_json_data(path):\n",
    "    with open(path) as f:\n",
    "        for line in f:\n",
    "            data = json.loads(line)\n",
    "            yield data\n",
    "            \n",
    "def get_data_frame():\n",
    "    uid_to_id = {}\n",
    "    iid_to_id = {}\n",
    "    \n",
    "    cols = [\"uid\", \"iid\", \"review\", \"rating\", \"dt\"]\n",
    "    rows = []\n",
    "    for d in iter_json_data(JSON_DATA_PATH):\n",
    "        uid = uid_to_id.setdefault(d[\"reviewerID\"], len(uid_to_id))\n",
    "        iid = iid_to_id.setdefault(d[\"asin\"], len(iid_to_id))\n",
    "        review = d[\"reviewText\"]\n",
    "        rating = float(d[\"overall\"])\n",
    "        dt = int(d[\"unixReviewTime\"])\n",
    "        rows.append((uid, iid, review, rating, dt))\n",
    "        \n",
    "    return pd.DataFrame(rows, columns=cols)"
   ]
  },
  {
   "cell_type": "code",
   "execution_count": 4,
   "metadata": {},
   "outputs": [
    {
     "data": {
      "text/html": [
       "<div>\n",
       "<style>\n",
       "    .dataframe thead tr:only-child th {\n",
       "        text-align: right;\n",
       "    }\n",
       "\n",
       "    .dataframe thead th {\n",
       "        text-align: left;\n",
       "    }\n",
       "\n",
       "    .dataframe tbody tr th {\n",
       "        vertical-align: top;\n",
       "    }\n",
       "</style>\n",
       "<table border=\"1\" class=\"dataframe\">\n",
       "  <thead>\n",
       "    <tr style=\"text-align: right;\">\n",
       "      <th></th>\n",
       "      <th>uid</th>\n",
       "      <th>iid</th>\n",
       "      <th>review</th>\n",
       "      <th>rating</th>\n",
       "      <th>dt</th>\n",
       "    </tr>\n",
       "  </thead>\n",
       "  <tbody>\n",
       "    <tr>\n",
       "      <th>0</th>\n",
       "      <td>0</td>\n",
       "      <td>0</td>\n",
       "      <td>Installing the game was a struggle (because of...</td>\n",
       "      <td>1.0</td>\n",
       "      <td>1341792000</td>\n",
       "    </tr>\n",
       "    <tr>\n",
       "      <th>1</th>\n",
       "      <td>1</td>\n",
       "      <td>0</td>\n",
       "      <td>If you like rally cars get this game you will ...</td>\n",
       "      <td>4.0</td>\n",
       "      <td>1372550400</td>\n",
       "    </tr>\n",
       "    <tr>\n",
       "      <th>2</th>\n",
       "      <td>2</td>\n",
       "      <td>0</td>\n",
       "      <td>1st shipment received a book instead of the ga...</td>\n",
       "      <td>1.0</td>\n",
       "      <td>1403913600</td>\n",
       "    </tr>\n",
       "    <tr>\n",
       "      <th>3</th>\n",
       "      <td>3</td>\n",
       "      <td>0</td>\n",
       "      <td>I got this version instead of the PS3 version,...</td>\n",
       "      <td>3.0</td>\n",
       "      <td>1315958400</td>\n",
       "    </tr>\n",
       "    <tr>\n",
       "      <th>4</th>\n",
       "      <td>4</td>\n",
       "      <td>0</td>\n",
       "      <td>I had Dirt 2 on Xbox 360 and it was an okay ga...</td>\n",
       "      <td>4.0</td>\n",
       "      <td>1308009600</td>\n",
       "    </tr>\n",
       "  </tbody>\n",
       "</table>\n",
       "</div>"
      ],
      "text/plain": [
       "   uid  iid                                             review  rating  \\\n",
       "0    0    0  Installing the game was a struggle (because of...     1.0   \n",
       "1    1    0  If you like rally cars get this game you will ...     4.0   \n",
       "2    2    0  1st shipment received a book instead of the ga...     1.0   \n",
       "3    3    0  I got this version instead of the PS3 version,...     3.0   \n",
       "4    4    0  I had Dirt 2 on Xbox 360 and it was an okay ga...     4.0   \n",
       "\n",
       "           dt  \n",
       "0  1341792000  \n",
       "1  1372550400  \n",
       "2  1403913600  \n",
       "3  1315958400  \n",
       "4  1308009600  "
      ]
     },
     "execution_count": 4,
     "metadata": {},
     "output_type": "execute_result"
    }
   ],
   "source": [
    "df = get_data_frame()\n",
    "df.head()"
   ]
  },
  {
   "cell_type": "code",
   "execution_count": 5,
   "metadata": {},
   "outputs": [
    {
     "data": {
      "text/plain": [
       "array([1], dtype=int64)"
      ]
     },
     "execution_count": 5,
     "metadata": {},
     "output_type": "execute_result"
    }
   ],
   "source": [
    "# проверяем, есть ли случаи, когда один и тот же пользователь оставляет отзывы на один и тот же объект\n",
    "df.groupby([\"uid\", \"iid\"]).review.count().unique()  # ура, таких случаев нет"
   ]
  },
  {
   "cell_type": "code",
   "execution_count": 6,
   "metadata": {},
   "outputs": [
    {
     "name": "stdout",
     "output_type": "stream",
     "text": [
      "Количество объектов: 10672\n",
      "Количество пользователей: 24303\n"
     ]
    }
   ],
   "source": [
    "print(\"Количество объектов:\", df.iid.unique().size)\n",
    "print(\"Количество пользователей:\", df.uid.unique().size)"
   ]
  },
  {
   "cell_type": "markdown",
   "metadata": {},
   "source": [
    "## Готовим выборки"
   ]
  },
  {
   "cell_type": "code",
   "execution_count": 7,
   "metadata": {
    "collapsed": true
   },
   "outputs": [],
   "source": [
    "def split_df_by_dt(df, p=0.8):\n",
    "    \"\"\"Функция разбивает df на тестовую и тренировочную выборки по времени \n",
    "    публикации отзывов (значение времени в поле dt)\n",
    "    \n",
    "    :param p: персентиль значений dt, которые образуют тренировочную выборку. Например p=0.8 означает, что в \n",
    "    тренировочной части будут отзывы, соответствующие первым 80% временного интервала \n",
    "    :return: два pd.DataFrame объекта\n",
    "    \"\"\"\n",
    "    border_dt = df.dt.quantile(p)\n",
    "    print(\"Min=%s, border=%s, max=%s\" % (df.dt.min(), border_dt, df.dt.max()))\n",
    "    training_df, test_df  = df[df.dt <= border_dt], df[df.dt > border_dt]\n",
    "    print(\"Размер до очистки:\", training_df.shape, test_df.shape)\n",
    "    # удаляем из тестовых данных строки, соответствующие пользователям или объектам, \n",
    "    # которых нет в тренировочных данных \n",
    "    # (пользователи - избегаем проблем для персональных систем, объекты - для всех)\n",
    "    test_df = test_df[test_df.uid.isin(training_df.uid) & test_df.iid.isin(training_df.iid)]\n",
    "    print(\"Размер после очистки:\", training_df.shape, test_df.shape)\n",
    "    return training_df, test_df"
   ]
  },
  {
   "cell_type": "code",
   "execution_count": 8,
   "metadata": {
    "collapsed": true
   },
   "outputs": [],
   "source": [
    "# Данные взяты отсюда - http://jmcauley.ucsd.edu/data/amazon/\n",
    "# http://snap.stanford.edu/data/amazon/productGraph/categoryFiles/reviews_Video_Games_5.json.gz\n",
    "JSON_DATA_PATH = \"data/Video_Games_5.json\"\n",
    "N = 10"
   ]
  },
  {
   "cell_type": "code",
   "execution_count": 9,
   "metadata": {},
   "outputs": [
    {
     "name": "stdout",
     "output_type": "stream",
     "text": [
      "Min=939859200, border=1377129600.0, max=1405987200\n",
      "Размер до очистки: (185427, 5) (46353, 5)\n",
      "Размер после очистки: (185427, 5) (19174, 5)\n"
     ]
    }
   ],
   "source": [
    "training_df, test_df = split_df_by_dt(df)\n",
    "del df"
   ]
  },
  {
   "cell_type": "code",
   "execution_count": 10,
   "metadata": {
    "collapsed": true
   },
   "outputs": [],
   "source": [
    "def clean_df(df, min_review_per_uid, min_review_per_iid):\n",
    "    \"\"\"Функция удаляет из df строки, соответствующие пользователям и объектам, \n",
    "    у которых меньше min_review_per_uid и min_review_per_iid отзывов соответственно\n",
    "    \"\"\"\n",
    "    _df = df.copy()\n",
    "    while True:\n",
    "        review_per_uid = _df.groupby(\"uid\").review.count()\n",
    "        bad_uids = review_per_uid[review_per_uid < min_review_per_uid].index\n",
    "    \n",
    "        review_per_iid = _df.groupby(\"iid\").review.count()\n",
    "        bad_iids = review_per_iid[review_per_iid < min_review_per_iid].index\n",
    "        \n",
    "        if bad_uids.shape[0] > 0 or bad_iids.shape[0] > 0:\n",
    "            _df = _df[(~_df.uid.isin(bad_uids)) & (~_df.iid.isin(bad_iids))]\n",
    "        else:\n",
    "            break\n",
    "    return _df"
   ]
  },
  {
   "cell_type": "markdown",
   "metadata": {},
   "source": [
    " ## Метрика"
   ]
  },
  {
   "cell_type": "markdown",
   "metadata": {},
   "source": [
    "Для упрощения тестирования предлагается использовать словарь следующего типа:\n",
    "\n",
    "```python\n",
    "recs = {\n",
    "    uid_1: {\n",
    "        iid_1: score_11,\n",
    "        iid_2: score_12,\n",
    "        ...\n",
    "    },\n",
    "    uid_2: {\n",
    "        iid_1: score_21,\n",
    "        iid_2: score_22,\n",
    "        ...\n",
    "    },\n",
    "    ...\n",
    "}\n",
    "```\n",
    "\n",
    "где `uid_i` - идентификатор тестового пользователя, `iid_j` - идентификатор рекомендованного объекта, а `score_ij` - предсказанный рейтинг/вес объекта `j` для пользователя `i`."
   ]
  },
  {
   "cell_type": "code",
   "execution_count": 11,
   "metadata": {
    "collapsed": true
   },
   "outputs": [],
   "source": [
    "def hit_ratio(recs_dict, test_dict):\n",
    "    \"\"\"Функция считает метрику hit-ration для двух словарей\n",
    "    :recs_dict: словарь рекомендаций типа {uid: {iid: score, ...}, ...}\n",
    "    :test_dict: тестовый словарь типа {uid: {iid: score, ...}, ...}\n",
    "    \"\"\"\n",
    "    hits = 0\n",
    "    for uid in test_dict:\n",
    "        if set(test_dict[uid].keys()).intersection(recs_dict.get(uid, {})):\n",
    "            hits += 1\n",
    "    return hits / len(test_dict)"
   ]
  },
  {
   "cell_type": "code",
   "execution_count": 12,
   "metadata": {
    "collapsed": true
   },
   "outputs": [],
   "source": [
    "def get_test_dict(test_df):\n",
    "    \"\"\"Функция, конвертирующая тестовый df в словарь\n",
    "    \"\"\"\n",
    "    test_dict = {}\n",
    "    for t in test_df.itertuples():\n",
    "        test_dict.setdefault(t.uid, {})\n",
    "        test_dict[t.uid][t.iid] = t.rating\n",
    "    return test_dict\n",
    "\n",
    "test_dict = get_test_dict(test_df)"
   ]
  },
  {
   "cell_type": "markdown",
   "metadata": {
    "collapsed": true
   },
   "source": [
    "## Content-based RS"
   ]
  },
  {
   "cell_type": "markdown",
   "metadata": {},
   "source": [
    "Простая content-based рекомендательная система описывает пользователей и объекты как вектора в некотором N-мерном пространстве фич. Вектор объекта показывает, насколько объект принадлежит к той или иной фиче. Вектор пользователя показывает, насколько пользователь предпочитает ту или иную фичу. Рекомендации строятся путем поиска объектов, чьи вектора похожи на вектор предпочтений пользователя. Предполагается, что чем более похожи вектора пользователя и объекта, тем интереснее этот объект пользователю."
   ]
  },
  {
   "cell_type": "markdown",
   "metadata": {},
   "source": [
    "#### `HR@10` для content-based, модели созданной автором блокнота: 0.065"
   ]
  },
  {
   "cell_type": "markdown",
   "metadata": {},
   "source": [
    "### Сделаем предобработку rewiew"
   ]
  },
  {
   "cell_type": "code",
   "execution_count": 13,
   "metadata": {},
   "outputs": [
    {
     "data": {
      "text/plain": [
       "185427"
      ]
     },
     "execution_count": 13,
     "metadata": {},
     "output_type": "execute_result"
    }
   ],
   "source": [
    "# соберем данные для обучения TfidfVectorizer\n",
    "texts = [m for m in training_df['review']]\n",
    "len(texts)"
   ]
  },
  {
   "cell_type": "code",
   "execution_count": 14,
   "metadata": {},
   "outputs": [
    {
     "name": "stdout",
     "output_type": "stream",
     "text": [
      "Wall time: 44.2 s\n"
     ]
    }
   ],
   "source": [
    "%%time\n",
    "from sklearn.feature_extraction.text import TfidfVectorizer\n",
    "#tfidf = TfidfVectorizer(stop_words='english', analyzer='word', tokenizer=None, max_features=25000 )\n",
    "tfidf = TfidfVectorizer(stop_words='english', analyzer='word', tokenizer=None)\n",
    "tfidf.fit(texts)"
   ]
  },
  {
   "cell_type": "code",
   "execution_count": 15,
   "metadata": {},
   "outputs": [
    {
     "data": {
      "text/plain": [
       "[('zzzzzzzzzzzzzzzzzzzz', 197238),\n",
       " ('zzzzzzzzzzzzzzzzzzz', 197237),\n",
       " ('zzzzzzzzzzzzzz', 197236),\n",
       " ('zzzzzzzzzzzziiiiiiiiiinnnnnnnnnnngggggggggg', 197235),\n",
       " ('zzzzzzzzzzzz', 197234),\n",
       " ('zzzzzzzzzzz', 197233),\n",
       " ('zzzzzzzzzz', 197232),\n",
       " ('zzzzzzzzz', 197231),\n",
       " ('zzzzzzzz', 197230),\n",
       " ('zzzzzzz', 197229),\n",
       " ('zzzzzz', 197228),\n",
       " ('zzzzzpt', 197227),\n",
       " ('zzzzzp', 197226),\n",
       " ('zzzzz', 197225),\n",
       " ('zzzzt', 197224),\n",
       " ('zzzzs', 197223),\n",
       " ('zzzz', 197222),\n",
       " ('zzz', 197221),\n",
       " ('zzkchkchkchkkchckrkchhhhhhhhhkkkkkak', 197220),\n",
       " ('zzes', 197219)]"
      ]
     },
     "execution_count": 15,
     "metadata": {},
     "output_type": "execute_result"
    }
   ],
   "source": [
    "result = sorted(tfidf.vocabulary_.items(), key=lambda x:x[1], reverse=True)[:20]\n",
    "result"
   ]
  },
  {
   "cell_type": "markdown",
   "metadata": {},
   "source": [
    "## Посчитаем TFIDF"
   ]
  },
  {
   "cell_type": "code",
   "execution_count": 17,
   "metadata": {},
   "outputs": [],
   "source": [
    "# сделаем матрицу из обьектов и их описаний\n",
    "training_df['review']='  '+training_df['review']\n",
    "#Object=training_df.groupby('iid')['review'].sum()\n",
    "#len(Object)"
   ]
  },
  {
   "cell_type": "code",
   "execution_count": 18,
   "metadata": {
    "collapsed": true
   },
   "outputs": [],
   "source": [
    "# попробуем как Турал\n",
    "review_ftr_m = tfidf.transform(training_df.review)\n",
    "#сразу умножаем на рейтинги\n",
    "review_ftr_m = review_ftr_m.multiply(training_df.rating.values.reshape(-1, 1)).tocsr()"
   ]
  },
  {
   "cell_type": "code",
   "execution_count": 19,
   "metadata": {
    "collapsed": true
   },
   "outputs": [],
   "source": [
    "# маритцу получили, по хорошему ее бы не мешало почистить и обработать\n",
    "# как это делать пока не очень понятно\n",
    "from sklearn.preprocessing import normalize\n",
    "from scipy.sparse import vstack\n",
    "\n",
    "# возьмем функцию Турала, она быстрее\n",
    "def _prepare_iid_data(df, review_ftr_m): \n",
    "    iid_to_row = {}\n",
    "    rows = []\n",
    "    # не самый оптимальный group by       \n",
    "    for row_id, iid in enumerate(df.iid.unique()):\n",
    "        iid_to_row[iid] = row_id # свяжем\n",
    "        \n",
    "        # вариант ищем iddtf * рейтинг и потом складываем вектора\n",
    "        iid_ftr_m = csr_matrix(review_ftr_m[np.where(df.iid == iid)[0]].sum(axis=0))\n",
    "        rows.append(iid_ftr_m)\n",
    "    \n",
    "    iid_ftr_m = normalize(vstack(rows, format='csr'))\n",
    "    return iid_to_row, iid_ftr_m\n"
   ]
  },
  {
   "cell_type": "code",
   "execution_count": 20,
   "metadata": {
    "collapsed": true
   },
   "outputs": [],
   "source": [
    "# маритцу получили, по хорошему ее бы не мешало почистить и обработать\n",
    "# как это делать пока не очень понятно\n",
    "from sklearn.preprocessing import normalize\n",
    "from scipy.sparse import vstack"
   ]
  },
  {
   "cell_type": "code",
   "execution_count": 21,
   "metadata": {},
   "outputs": [
    {
     "name": "stdout",
     "output_type": "stream",
     "text": [
      "Wall time: 58.2 s\n"
     ]
    }
   ],
   "source": [
    "%%time\n",
    "iid_to_row, iid_profile = _prepare_iid_data(training_df, review_ftr_m)\n",
    "len(iid_to_row)"
   ]
  },
  {
   "cell_type": "code",
   "execution_count": 22,
   "metadata": {},
   "outputs": [
    {
     "data": {
      "text/plain": [
       "<10098x197239 sparse matrix of type '<class 'numpy.float64'>'\n",
       "\twith 7356087 stored elements in Compressed Sparse Row format>"
      ]
     },
     "execution_count": 22,
     "metadata": {},
     "output_type": "execute_result"
    }
   ],
   "source": [
    "# получили большую матрицу обьектов\n",
    "iid_profile"
   ]
  },
  {
   "cell_type": "markdown",
   "metadata": {},
   "source": [
    "## Создадим профиль пользователя"
   ]
  },
  {
   "cell_type": "markdown",
   "metadata": {},
   "source": [
    "### Поработаем с рейтингом пользователя"
   ]
  },
  {
   "cell_type": "code",
   "execution_count": 23,
   "metadata": {
    "collapsed": true,
    "scrolled": true
   },
   "outputs": [],
   "source": [
    "# сделаем пока просто подсчитаем средний рейтинг который пользователь ставит и если текущий быше нравится\n",
    "# можно примеить специальные функции для рейтига /// если хватит времени\n",
    "#mean_tr=training_df.groupby('uid')['rating'].mean().to_frame()\n",
    "#training_df = pd.merge(training_df, mean_tr, how='left', left_on='uid', right_index=True )"
   ]
  },
  {
   "cell_type": "code",
   "execution_count": 24,
   "metadata": {
    "collapsed": true
   },
   "outputs": [],
   "source": [
    "# народ настроен  более положительно чем отрицательно, это хорошо\n",
    "# точно нужно применять другую функцию для оценки рейтинга и возможно поробовать сделать нравится/не нравится/нормально\n",
    "#training_df[\"liked\"] = (training_df.rating_x >= training_df.rating_y).astype(int)\n",
    "#training_df.liked.value_counts()"
   ]
  },
  {
   "cell_type": "code",
   "execution_count": 25,
   "metadata": {},
   "outputs": [
    {
     "data": {
      "text/html": [
       "<div>\n",
       "<style>\n",
       "    .dataframe thead tr:only-child th {\n",
       "        text-align: right;\n",
       "    }\n",
       "\n",
       "    .dataframe thead th {\n",
       "        text-align: left;\n",
       "    }\n",
       "\n",
       "    .dataframe tbody tr th {\n",
       "        vertical-align: top;\n",
       "    }\n",
       "</style>\n",
       "<table border=\"1\" class=\"dataframe\">\n",
       "  <thead>\n",
       "    <tr style=\"text-align: right;\">\n",
       "      <th></th>\n",
       "      <th>uid</th>\n",
       "      <th>iid</th>\n",
       "      <th>review</th>\n",
       "      <th>rating</th>\n",
       "      <th>dt</th>\n",
       "    </tr>\n",
       "  </thead>\n",
       "  <tbody>\n",
       "    <tr>\n",
       "      <th>5</th>\n",
       "      <td>5</td>\n",
       "      <td>0</td>\n",
       "      <td>Overall this is a well done racing game, w...</td>\n",
       "      <td>4.0</td>\n",
       "      <td>1368230400</td>\n",
       "    </tr>\n",
       "    <tr>\n",
       "      <th>93459</th>\n",
       "      <td>5</td>\n",
       "      <td>5000</td>\n",
       "      <td>My family loves this game.  We all play to...</td>\n",
       "      <td>5.0</td>\n",
       "      <td>1301788800</td>\n",
       "    </tr>\n",
       "    <tr>\n",
       "      <th>121923</th>\n",
       "      <td>5</td>\n",
       "      <td>6308</td>\n",
       "      <td>Need for Speed - Shift is a great racing g...</td>\n",
       "      <td>4.0</td>\n",
       "      <td>1346630400</td>\n",
       "    </tr>\n",
       "    <tr>\n",
       "      <th>123196</th>\n",
       "      <td>5</td>\n",
       "      <td>6349</td>\n",
       "      <td>Overall this is a well done racing racing ...</td>\n",
       "      <td>4.0</td>\n",
       "      <td>1368230400</td>\n",
       "    </tr>\n",
       "    <tr>\n",
       "      <th>125474</th>\n",
       "      <td>5</td>\n",
       "      <td>6428</td>\n",
       "      <td>I have read the many negative reviews.  I ...</td>\n",
       "      <td>5.0</td>\n",
       "      <td>1264809600</td>\n",
       "    </tr>\n",
       "    <tr>\n",
       "      <th>168532</th>\n",
       "      <td>5</td>\n",
       "      <td>8069</td>\n",
       "      <td>I find Need for Speed Shift 2 a very fun g...</td>\n",
       "      <td>5.0</td>\n",
       "      <td>1309824000</td>\n",
       "    </tr>\n",
       "    <tr>\n",
       "      <th>214274</th>\n",
       "      <td>5</td>\n",
       "      <td>9935</td>\n",
       "      <td>Graphics are excellent.  Would be nice to ...</td>\n",
       "      <td>5.0</td>\n",
       "      <td>1360454400</td>\n",
       "    </tr>\n",
       "  </tbody>\n",
       "</table>\n",
       "</div>"
      ],
      "text/plain": [
       "        uid   iid                                             review  rating  \\\n",
       "5         5     0      Overall this is a well done racing game, w...     4.0   \n",
       "93459     5  5000      My family loves this game.  We all play to...     5.0   \n",
       "121923    5  6308      Need for Speed - Shift is a great racing g...     4.0   \n",
       "123196    5  6349      Overall this is a well done racing racing ...     4.0   \n",
       "125474    5  6428      I have read the many negative reviews.  I ...     5.0   \n",
       "168532    5  8069      I find Need for Speed Shift 2 a very fun g...     5.0   \n",
       "214274    5  9935      Graphics are excellent.  Would be nice to ...     5.0   \n",
       "\n",
       "                dt  \n",
       "5       1368230400  \n",
       "93459   1301788800  \n",
       "121923  1346630400  \n",
       "123196  1368230400  \n",
       "125474  1264809600  \n",
       "168532  1309824000  \n",
       "214274  1360454400  "
      ]
     },
     "execution_count": 25,
     "metadata": {},
     "output_type": "execute_result"
    }
   ],
   "source": [
    "training_df.rename(columns={'rating_x' : 'rating'}, inplace=True)\n",
    "#training_df.columns.values[3] = 'rating'\n",
    "training_df.query('uid==5')"
   ]
  },
  {
   "cell_type": "code",
   "execution_count": 26,
   "metadata": {},
   "outputs": [
    {
     "data": {
      "text/plain": [
       "<197239x1 sparse matrix of type '<class 'numpy.float64'>'\n",
       "\twith 218 stored elements in Compressed Sparse Row format>"
      ]
     },
     "execution_count": 26,
     "metadata": {},
     "output_type": "execute_result"
    }
   ],
   "source": [
    "temp_crs=csr_matrix(tfidf.transform(training_df[training_df.uid == 5].review)).transpose()\n",
    "temp_crs=temp_crs.multiply(training_df[training_df.uid == 5].rating)\n",
    "temp_crs=csr_matrix(temp_crs.sum(axis=1))\n",
    "\n",
    "temp_crs\n",
    "\n",
    "#*training_df[training_df.uid == 5].rating"
   ]
  },
  {
   "cell_type": "code",
   "execution_count": 27,
   "metadata": {
    "collapsed": true
   },
   "outputs": [],
   "source": [
    "# Моя версия\n",
    "def _prepare_uid_data2(df, tfidf):  \n",
    "        uid_to_row = {}\n",
    "        rows = []\n",
    "        \n",
    "        # вытаскиваем все существующие отзывы поьзователя\n",
    "        for row_id, uid in enumerate(df.uid.unique()):\n",
    "            uid_to_row[uid] = row_id # свяжем\n",
    "            \n",
    "            # вариант ищем iddtf * рейтинг и потом складываем вектора\n",
    "            uid_ftr_m=csr_matrix(tfidf.transform(training_df[training_df.uid == uid].review))#.transpose()\n",
    "            #uid_ftr_m=uid_ftr_m.multiply(training_df[training_df.uid == uid].rating).transpose()\n",
    "            uid_ftr_m=csr_matrix(uid_ftr_m.sum(axis=0))\n",
    "            \n",
    "            rows.append(uid_ftr_m)\n",
    "            \n",
    "        uid_ftr_m = normalize(vstack(rows, format='csr'))\n",
    "        return uid_to_row, uid_ftr_m\n",
    "            \n",
    "            "
   ]
  },
  {
   "cell_type": "code",
   "execution_count": 28,
   "metadata": {},
   "outputs": [
    {
     "name": "stdout",
     "output_type": "stream",
     "text": [
      "Wall time: 0 ns\n"
     ]
    }
   ],
   "source": [
    "%%time\n",
    "# постоим матрицу пользователей\n",
    "#uid_to_row, uid_profile = _prepare_uid_data2(training_df, tfidf)\n",
    "#len(uid_to_row)"
   ]
  },
  {
   "cell_type": "code",
   "execution_count": 29,
   "metadata": {
    "collapsed": true
   },
   "outputs": [],
   "source": [
    "# версия Турала\n",
    "def _prepare_uid_data(df, iid_to_row, iid_ftr_m):  \n",
    "        uid_to_row = {}\n",
    "        rows = []\n",
    "        \n",
    "        # gr_df - кусок df с данными одного пользователя \n",
    "        for gr_id, gr_df in df.groupby(\"uid\"):\n",
    "            uid = gr_df.uid.values[0]\n",
    "            \n",
    "            # поиск объектов и пользовательских рейтингов для них\n",
    "            iid_rows = []\n",
    "            ratings = []\n",
    "            for iid, rating in zip(gr_df.iid.values, gr_df.rating.values):\n",
    "                if iid in iid_to_row:\n",
    "                    iid_rows.append(iid_to_row[iid])\n",
    "                    ratings.append(rating)\n",
    "                  \n",
    "            # создание профиля пользователя\n",
    "            if iid_rows:\n",
    "                ratings = np.array(ratings).reshape(-1, 1)\n",
    "                uid_ftr_m = csr_matrix(iid_ftr_m[iid_rows].multiply(ratings).sum(axis=0)) \n",
    "                uid_to_row[uid] = len(uid_to_row)\n",
    "                rows.append(uid_ftr_m)\n",
    "            \n",
    "        uid_ftr_m = normalize(vstack(rows, format='csr'))\n",
    "        return uid_to_row, uid_ftr_m"
   ]
  },
  {
   "cell_type": "code",
   "execution_count": 30,
   "metadata": {},
   "outputs": [
    {
     "name": "stdout",
     "output_type": "stream",
     "text": [
      "Wall time: 2min 35s\n"
     ]
    }
   ],
   "source": [
    "%%time\n",
    "uid_to_row, uid_profile = _prepare_uid_data(training_df, iid_to_row, iid_profile)"
   ]
  },
  {
   "cell_type": "code",
   "execution_count": 31,
   "metadata": {},
   "outputs": [
    {
     "data": {
      "text/plain": [
       "<22215x197239 sparse matrix of type '<class 'numpy.float64'>'\n",
       "\twith 149385302 stored elements in Compressed Sparse Row format>"
      ]
     },
     "execution_count": 31,
     "metadata": {},
     "output_type": "execute_result"
    }
   ],
   "source": [
    "uid_profile"
   ]
  },
  {
   "cell_type": "code",
   "execution_count": 32,
   "metadata": {
    "collapsed": true
   },
   "outputs": [],
   "source": [
    "# немного упрощаем себе жизнь (для подсчета рекомендаций с использованием косинусной меры)\n",
    "ftr_iid_m = iid_profile.T.tocsr()\n",
    "row_to_iid = {row_id: iid for iid, row_id in iid_to_row.items()}"
   ]
  },
  {
   "cell_type": "code",
   "execution_count": 33,
   "metadata": {},
   "outputs": [
    {
     "name": "stdout",
     "output_type": "stream",
     "text": [
      "234\n"
     ]
    },
    {
     "data": {
      "text/plain": [
       "array([ 0.64544241,  0.64919771,  0.65139977,  0.65471729,  0.66222475,\n",
       "        0.67183736,  0.68208319,  0.68493811,  0.72738134,  0.7500904 ])"
      ]
     },
     "execution_count": 33,
     "metadata": {},
     "output_type": "execute_result"
    }
   ],
   "source": [
    "u_row_id = uid_to_row[256]\n",
    "print(u_row_id)\n",
    "u_row = uid_profile[u_row_id]\n",
    "\n",
    "u_recs = u_row.dot(ftr_iid_m)\n",
    "np.sort(u_recs.data, axis=None)[-10:]"
   ]
  },
  {
   "cell_type": "code",
   "execution_count": 34,
   "metadata": {
    "collapsed": true
   },
   "outputs": [],
   "source": [
    "from scipy.stats.stats import pearsonr"
   ]
  },
  {
   "cell_type": "code",
   "execution_count": 35,
   "metadata": {
    "collapsed": true
   },
   "outputs": [],
   "source": [
    "def get_recs(uid, top):\n",
    "    recs = {}\n",
    "    if uid in uid_to_row:\n",
    "        u_row_id = uid_to_row[uid]\n",
    "        u_row = uid_profile[u_row_id]\n",
    "        \n",
    "        # самописный cosine similarity\n",
    "        u_recs = u_row.dot(ftr_iid_m)\n",
    "\n",
    "        for arg_id in np.argsort(u_recs.data)[-top:]:\n",
    "            row_id = u_recs.indices[arg_id]\n",
    "            score = u_recs.data[arg_id]\n",
    "            recs[row_to_iid[row_id]] = score\n",
    "    return recs\n"
   ]
  },
  {
   "cell_type": "code",
   "execution_count": 38,
   "metadata": {
    "collapsed": true
   },
   "outputs": [],
   "source": [
    "    def get_batch_recs( uids, top):\n",
    "        return {uid: get_recs(uid, top) for uid in uids}"
   ]
  },
  {
   "cell_type": "code",
   "execution_count": 39,
   "metadata": {},
   "outputs": [
    {
     "name": "stdout",
     "output_type": "stream",
     "text": [
      "Wall time: 6min 26s\n"
     ]
    }
   ],
   "source": [
    "%%time\n",
    "rec_dict=get_batch_recs(test_df.uid,10)"
   ]
  },
  {
   "cell_type": "code",
   "execution_count": 40,
   "metadata": {},
   "outputs": [
    {
     "data": {
      "text/plain": [
       "0.06500366837857667"
      ]
     },
     "execution_count": 40,
     "metadata": {},
     "output_type": "execute_result"
    }
   ],
   "source": [
    "# тупо берем первые 10 по суммарным баллам за просмотр\n",
    "hit_ratio(rec_dict,test_dict)"
   ]
  },
  {
   "cell_type": "markdown",
   "metadata": {
    "collapsed": true
   },
   "source": [
    "## Эксперименты и выводы"
   ]
  },
  {
   "cell_type": "markdown",
   "metadata": {},
   "source": [
    "####  0-0 Результат по умолчанию (все фичи, TFIDF юзера по SUM(РЕВЬЮ*RATING), No Feature Selection). Результат теста hit-ratio (HR): 0.049"
   ]
  },
  {
   "cell_type": "markdown",
   "metadata": {
    "collapsed": true
   },
   "source": [
    "####  0-1 Результат по умолчанию (все фичи, TFIDF юзера по SUM(РЕВЬЮ), No Feature Selection). Убрал перемножение на рейтинг. Результат теста hit-ratio (HR):  0.0491562729273661"
   ]
  },
  {
   "cell_type": "markdown",
   "metadata": {},
   "source": [
    "####  0-2 Вариант Турала (все фичи,  uid_profile по его объектам из iid_profile SUM(РЕВЬЮ*RATING), No Feature Selection).  Результат теста hit-ratio (HR): 0.06544387380777696"
   ]
  },
  {
   "cell_type": "markdown",
   "metadata": {},
   "source": [
    "####  0-3 Вариант Турала (все фичи, uid_profile по его объектам из iid_profile SUM(РЕВЬЮ), No Feature Selection).  Результат теста hit-ratio (HR):  0.06206896551724138  - как и предполагалось ухудшило результат"
   ]
  },
  {
   "cell_type": "markdown",
   "metadata": {
    "collapsed": true
   },
   "source": [
    "####  0-4 Вариант Турала (все фичи, iid_profile SUM(РЕВЬЮ), uid_profile по его объектам из iid_profile SUM(РЕВЬЮ*RATING), No Feature Selection).  Результат теста hit-ratio (HR):  0.06544387380777696 - точно такой же как и у iid_profile * RATING, наверное веса оценок iid при косинусной мере, не столь важны а вот для матирцы uid они позволяют более точно определить предпочтения пользователя "
   ]
  },
  {
   "cell_type": "markdown",
   "metadata": {},
   "source": [
    "####  1-1 Вариант Турала ( TFIDF , uid_profile по его объектам из iid_profile SUM(РЕВЬЮ), No Feature Selection).  Результат теста TFIDF max_features=100 000  hit-ratio (HR):  0.0632428466617755\n"
   ]
  },
  {
   "cell_type": "markdown",
   "metadata": {},
   "source": [
    "####  1-1 Вариант Турала ( TFIDF , uid_profile по его объектам из iid_profile SUM(РЕВЬЮ), No Feature Selection).  Результат теста \n",
    "TFIDF max_features=100 000   hit-ratio (HR):  0.0632428466617755   \n",
    "50 0000  (HR): 0.06456346294937637  \n",
    "25 000 (HR): 0.06471019809244315\n",
    "10 000 (HR): 0.0632428466617755"
   ]
  },
  {
   "cell_type": "code",
   "execution_count": null,
   "metadata": {
    "collapsed": true
   },
   "outputs": [],
   "source": []
  }
 ],
 "metadata": {
  "kernelspec": {
   "display_name": "Python 3",
   "language": "python",
   "name": "python3"
  },
  "language_info": {
   "codemirror_mode": {
    "name": "ipython",
    "version": 3
   },
   "file_extension": ".py",
   "mimetype": "text/x-python",
   "name": "python",
   "nbconvert_exporter": "python",
   "pygments_lexer": "ipython3",
   "version": "3.6.1"
  }
 },
 "nbformat": 4,
 "nbformat_minor": 2
}
